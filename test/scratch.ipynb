{
 "cells": [
  {
   "metadata": {
    "ExecuteTime": {
     "end_time": "2024-05-08T08:33:52.958126Z",
     "start_time": "2024-05-08T08:33:52.299820Z"
    }
   },
   "cell_type": "code",
   "source": "import pandas as pd",
   "id": "dd88ca69210529ed",
   "outputs": [],
   "execution_count": 1
  },
  {
   "metadata": {
    "ExecuteTime": {
     "end_time": "2024-05-08T08:34:09.738807Z",
     "start_time": "2024-05-08T08:34:09.731227Z"
    }
   },
   "cell_type": "code",
   "source": "table = [['Fruit', 'Color', 'Price (USD)'], ['Apple', 'Red', '1.20'], ['Banana', 'Yellow', '0.50'], ['Orange', 'Orange', '0.80'], ['Strawberry', 'Red', '2.50'], ['Blueberry', 'Blue', '3.00'], ['Kiwi', 'Green', '1.00'], ['Mango', 'Orange', '1.50'], ['Grape', 'Purple', '2.00']]",
   "id": "73b718da9e6ebc1",
   "outputs": [],
   "execution_count": 4
  },
  {
   "metadata": {
    "ExecuteTime": {
     "end_time": "2024-05-08T09:11:28.447755Z",
     "start_time": "2024-05-08T09:11:28.430942Z"
    }
   },
   "cell_type": "code",
   "source": [
    "df = pd.DataFrame(table)\n",
    "df"
   ],
   "id": "5afe13984e3c29bb",
   "outputs": [
    {
     "data": {
      "text/plain": [
       "            0       1            2\n",
       "0       Fruit   Color  Price (USD)\n",
       "1       Apple     Red         1.20\n",
       "2      Banana  Yellow         0.50\n",
       "3      Orange  Orange         0.80\n",
       "4  Strawberry     Red         2.50\n",
       "5   Blueberry    Blue         3.00\n",
       "6        Kiwi   Green         1.00\n",
       "7       Mango  Orange         1.50\n",
       "8       Grape  Purple         2.00"
      ],
      "text/html": [
       "<div>\n",
       "<style scoped>\n",
       "    .dataframe tbody tr th:only-of-type {\n",
       "        vertical-align: middle;\n",
       "    }\n",
       "\n",
       "    .dataframe tbody tr th {\n",
       "        vertical-align: top;\n",
       "    }\n",
       "\n",
       "    .dataframe thead th {\n",
       "        text-align: right;\n",
       "    }\n",
       "</style>\n",
       "<table border=\"1\" class=\"dataframe\">\n",
       "  <thead>\n",
       "    <tr style=\"text-align: right;\">\n",
       "      <th></th>\n",
       "      <th>0</th>\n",
       "      <th>1</th>\n",
       "      <th>2</th>\n",
       "    </tr>\n",
       "  </thead>\n",
       "  <tbody>\n",
       "    <tr>\n",
       "      <th>0</th>\n",
       "      <td>Fruit</td>\n",
       "      <td>Color</td>\n",
       "      <td>Price (USD)</td>\n",
       "    </tr>\n",
       "    <tr>\n",
       "      <th>1</th>\n",
       "      <td>Apple</td>\n",
       "      <td>Red</td>\n",
       "      <td>1.20</td>\n",
       "    </tr>\n",
       "    <tr>\n",
       "      <th>2</th>\n",
       "      <td>Banana</td>\n",
       "      <td>Yellow</td>\n",
       "      <td>0.50</td>\n",
       "    </tr>\n",
       "    <tr>\n",
       "      <th>3</th>\n",
       "      <td>Orange</td>\n",
       "      <td>Orange</td>\n",
       "      <td>0.80</td>\n",
       "    </tr>\n",
       "    <tr>\n",
       "      <th>4</th>\n",
       "      <td>Strawberry</td>\n",
       "      <td>Red</td>\n",
       "      <td>2.50</td>\n",
       "    </tr>\n",
       "    <tr>\n",
       "      <th>5</th>\n",
       "      <td>Blueberry</td>\n",
       "      <td>Blue</td>\n",
       "      <td>3.00</td>\n",
       "    </tr>\n",
       "    <tr>\n",
       "      <th>6</th>\n",
       "      <td>Kiwi</td>\n",
       "      <td>Green</td>\n",
       "      <td>1.00</td>\n",
       "    </tr>\n",
       "    <tr>\n",
       "      <th>7</th>\n",
       "      <td>Mango</td>\n",
       "      <td>Orange</td>\n",
       "      <td>1.50</td>\n",
       "    </tr>\n",
       "    <tr>\n",
       "      <th>8</th>\n",
       "      <td>Grape</td>\n",
       "      <td>Purple</td>\n",
       "      <td>2.00</td>\n",
       "    </tr>\n",
       "  </tbody>\n",
       "</table>\n",
       "</div>"
      ]
     },
     "execution_count": 10,
     "metadata": {},
     "output_type": "execute_result"
    }
   ],
   "execution_count": 10
  },
  {
   "metadata": {
    "ExecuteTime": {
     "end_time": "2024-05-08T08:56:47.915924Z",
     "start_time": "2024-05-08T08:56:47.907970Z"
    }
   },
   "cell_type": "code",
   "source": "len(df.columns)",
   "id": "6d3f502f0563572e",
   "outputs": [
    {
     "data": {
      "text/plain": [
       "3"
      ]
     },
     "execution_count": 8,
     "metadata": {},
     "output_type": "execute_result"
    }
   ],
   "execution_count": 8
  },
  {
   "metadata": {
    "ExecuteTime": {
     "end_time": "2024-05-08T09:08:49.922321Z",
     "start_time": "2024-05-08T09:08:49.914327Z"
    }
   },
   "cell_type": "code",
   "source": "df.values",
   "id": "7ff1f54205f3a3ef",
   "outputs": [
    {
     "data": {
      "text/plain": [
       "array([['Fruit', 'Color', 'Price (USD)'],\n",
       "       ['Apple', 'Red', '1.20'],\n",
       "       ['Banana', 'Yellow', '0.50'],\n",
       "       ['Orange', 'Orange', '0.80'],\n",
       "       ['Strawberry', 'Red', '2.50'],\n",
       "       ['Blueberry', 'Blue', '3.00'],\n",
       "       ['Kiwi', 'Green', '1.00'],\n",
       "       ['Mango', 'Orange', '1.50'],\n",
       "       ['Grape', 'Purple', '2.00']], dtype=object)"
      ]
     },
     "execution_count": 9,
     "metadata": {},
     "output_type": "execute_result"
    }
   ],
   "execution_count": 9
  },
  {
   "metadata": {},
   "cell_type": "code",
   "outputs": [],
   "execution_count": null,
   "source": "",
   "id": "977eea5481844e7a"
  }
 ],
 "metadata": {
  "kernelspec": {
   "display_name": "Python 3",
   "language": "python",
   "name": "python3"
  },
  "language_info": {
   "codemirror_mode": {
    "name": "ipython",
    "version": 2
   },
   "file_extension": ".py",
   "mimetype": "text/x-python",
   "name": "python",
   "nbconvert_exporter": "python",
   "pygments_lexer": "ipython2",
   "version": "2.7.6"
  }
 },
 "nbformat": 4,
 "nbformat_minor": 5
}
